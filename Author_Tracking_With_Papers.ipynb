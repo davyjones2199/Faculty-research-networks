{
 "cells": [
  {
   "cell_type": "code",
   "execution_count": 1,
   "metadata": {},
   "outputs": [
    {
     "name": "stderr",
     "output_type": "stream",
     "text": [
      "C:\\Users\\ACER\\AppData\\Local\\Temp\\ipykernel_4480\\1450419276.py:1: DeprecationWarning: \n",
      "Pyarrow will become a required dependency of pandas in the next major release of pandas (pandas 3.0),\n",
      "(to allow more performant data types, such as the Arrow string type, and better interoperability with other libraries)\n",
      "but was not found to be installed on your system.\n",
      "If this would cause problems for you,\n",
      "please provide us feedback at https://github.com/pandas-dev/pandas/issues/54466\n",
      "        \n",
      "  import pandas as pd\n"
     ]
    }
   ],
   "source": [
    "import pandas as pd\n",
    "import json\n",
    "import numpy as np\n",
    "import os\n",
    "from tqdm import tqdm\n",
    "from tabulate import tabulate\n",
    "import random\n",
    "import matplotlib.pyplot as plt\n",
    "from urllib.request import urlopen\n",
    "from Author_Stats import Author_Stats"
   ]
  },
  {
   "cell_type": "markdown",
   "metadata": {},
   "source": [
    "# Useful Functions"
   ]
  },
  {
   "cell_type": "code",
   "execution_count": 92,
   "metadata": {},
   "outputs": [
    {
     "name": "stdout",
     "output_type": "stream",
     "text": [
      "74 days\n"
     ]
    }
   ],
   "source": [
    "# Python3 program two find number of\n",
    "# days between two given dates\n",
    "\n",
    "# A date has day 'd', month 'm' and year 'y'\n",
    "\n",
    "\n",
    "class Date:\n",
    "\tdef __init__(self, d, m, y):\n",
    "\t\tself.d = d\n",
    "\t\tself.m = m\n",
    "\t\tself.y = y\n",
    "\n",
    "\n",
    "# To store number of days in all months from\n",
    "# January to Dec.\n",
    "monthDays = [31, 28, 31, 30, 31, 30,\n",
    "\t\t\t31, 31, 30, 31, 30, 31]\n",
    "\n",
    "# This function counts number of leap years\n",
    "# before the given date\n",
    "\n",
    "\n",
    "def countLeapYears(d):\n",
    "\n",
    "\tyears = d.y\n",
    "\n",
    "\t# Check if the current year needs to be considered\n",
    "\t# for the count of leap years or not\n",
    "\tif (d.m <= 2):\n",
    "\t\tyears -= 1\n",
    "\n",
    "\t# An year is a leap year if it is a multiple of 4,\n",
    "\t# multiple of 400 and not a multiple of 100.\n",
    "\treturn int(years / 4) - int(years / 100) + int(years / 400)\n",
    "\n",
    "\n",
    "# This function returns number of days between two\n",
    "# given dates\n",
    "def getDifference(dt1, dt2):\n",
    "\n",
    "\t# COUNT TOTAL NUMBER OF DAYS BEFORE FIRST DATE 'dt1'\n",
    "\n",
    "\t# initialize count using years and day\n",
    "\tn1 = dt1.y * 365 + dt1.d\n",
    "\n",
    "\t# Add days for months in given date\n",
    "\tfor i in range(0, dt1.m - 1):\n",
    "\t\tn1 += monthDays[i]\n",
    "\n",
    "\t# Since every leap year is of 366 days,\n",
    "\t# Add a day for every leap year\n",
    "\tn1 += countLeapYears(dt1)\n",
    "\n",
    "\t# SIMILARLY, COUNT TOTAL NUMBER OF DAYS BEFORE 'dt2'\n",
    "\n",
    "\tn2 = dt2.y * 365 + dt2.d\n",
    "\tfor i in range(0, dt2.m - 1):\n",
    "\t\tn2 += monthDays[i]\n",
    "\tn2 += countLeapYears(dt2)\n",
    "\n",
    "\t# return difference between two counts\n",
    "\treturn (n2 - n1)\n",
    "\n",
    "\n",
    "# Driver program\n",
    "dt1 = Date(13, 12, 2018)\n",
    "dt2 = Date(25, 2, 2019)\n",
    "\n",
    "print(getDifference(dt1, dt2), \"days\")\n"
   ]
  },
  {
   "cell_type": "code",
   "execution_count": 98,
   "metadata": {},
   "outputs": [],
   "source": [
    "def Date_Diff(date_1,date_2):\n",
    "    y1,y2 = int(date_1[:4]),int(date_2[:4])\n",
    "    m1,m2 = int(date_1[5:7]),int(date_2[5:7])\n",
    "    d1,d2 = int(date_1[8:10]),int(date_2[8:10])\n",
    "    return getDifference(Date(d1,m1,y1),Date(d2,m2,y2))"
   ]
  },
  {
   "cell_type": "code",
   "execution_count": 175,
   "metadata": {},
   "outputs": [],
   "source": [
    "def average_gap_finder(Institutes,direct=False):\n",
    "    Dates = []\n",
    "    if direct:\n",
    "        for paper in papers:\n",
    "            Dates.append(paper[\"publication_date\"])\n",
    "    else:\n",
    "        for institute in Institutes:\n",
    "            Dates.append(institute[3])\n",
    "    Gaps = [Date_Diff(Dates[i],Dates[i+1]) for i in range(len(Dates)-1) ]\n",
    "    return np.mean(Gaps)"
   ]
  },
  {
   "cell_type": "markdown",
   "metadata": {},
   "source": [
    "# Tracking Career"
   ]
  },
  {
   "cell_type": "code",
   "execution_count": 3,
   "metadata": {},
   "outputs": [],
   "source": [
    "PATH = \"C:\\\\Users\\\\ACER\\\\Desktop\\\\INTERNSHIP\\\\Career\\\\Stats.txt\"\n",
    "f = open(PATH, encoding='utf8')\n",
    "Stats = json.load(f)\n",
    "f.close()\n",
    "df = pd.read_csv(\"C:\\\\Users\\\\ACER\\\\Desktop\\\\INTERNSHIP\\\\Career\\\\Author_Details.csv\")"
   ]
  },
  {
   "cell_type": "code",
   "execution_count": 4,
   "metadata": {},
   "outputs": [],
   "source": [
    "ADB = Author_Stats(df=df,Stats=Stats)"
   ]
  },
  {
   "cell_type": "code",
   "execution_count": 181,
   "metadata": {},
   "outputs": [],
   "source": [
    "Institution_Heirarchy = {'education': 0,'facility': 1,'government':2,'healthcare':3,'company':4,'nonprofit':5}\n",
    "def Describe_Career(Open_Alex_ID,Author_Data_Base,return_=False,filter_by_gap=True,filter_coefficient= 3):\n",
    "    \n",
    "    papers = Author_Data_Base.Get_Works(Open_Alex_ID = Open_Alex_ID,return_=True,Show_Paper_names=False)\n",
    "    #Affiliations = {paper['publication_year']: [] for paper in papers}\n",
    "    Institute_list_initial = {\"A\": [],\"B\": [] }\n",
    "    #Institute_list = set({})\n",
    "    #AVG_GAP = average_gap_finder(Papers=papers)\n",
    "    Common = []\n",
    "    \n",
    "    \n",
    "    for i in range(len(papers)):\n",
    "        for author in papers[i]['authorships']:\n",
    "            if author['author']['id'] == Open_Alex_ID:\n",
    "                for institute in author['institutions']:\n",
    "                    #Affiliations[papers[i]['publication_year']].append((institute['display_name'],institute['country_code'],institute['type'],papers[i]['publication_date'],i))\n",
    "                    #Institute_list.add(institute['display_name'])\n",
    "                    if i < 1:\n",
    "                        Institute_list_initial[\"A\"].append([institute['display_name'],institute['country_code'],institute['type'],papers[i]['publication_date']])\n",
    "                    else:\n",
    "                        Institute_list_initial[\"B\"].append([institute['display_name'],institute['country_code'],institute['type'],papers[i]['publication_date']])\n",
    "        #Flag = True\n",
    "        if i>=1:\n",
    "            for j in range(len(Institute_list_initial[\"B\"])):\n",
    "                for k in range(len(Institute_list_initial[\"A\"])):\n",
    "                    if Institute_list_initial[\"B\"][j][0] == Institute_list_initial[\"A\"][k][0]:\n",
    "                        Flag = True\n",
    "                        for institute in Common:\n",
    "                            if institute[0] == Institute_list_initial[\"B\"][j][0]:\n",
    "                                Flag = False\n",
    "                        if Flag:\n",
    "                            Common.append(Institute_list_initial[\"B\"][j])\n",
    "            Institute_list_initial['A'] = Institute_list_initial['B'] \n",
    "            Institute_list_initial['B'] = []\n",
    "        #print(Common)       \n",
    "    #Institute_list = list(Institute_list)               \n",
    "    #return Affiliations,Institute_list,Common\n",
    "    AFFILIATIONS = []\n",
    "    if filter_by_gap:\n",
    "        AVG_GAP = average_gap_finder(Common)\n",
    "        for i in range(len(Common)-1):\n",
    "            if Date_Diff(Common[i][3],Common[i+1][3]) <= filter_coefficient*AVG_GAP or Date_Diff(Common[i][3],Common[i+1][3]) <= 5*365:\n",
    "                AFFILIATIONS.append(Common[i])\n",
    "        AFFILIATIONS.append(Common[i+1])\n",
    "    else:\n",
    "        AFFILIATIONS = Common\n",
    "    if return_:\n",
    "        return AFFILIATIONS\n",
    "    print(f\"No of papers visited: {len(papers)}\")\n",
    "    print(tabulate(pd.DataFrame(AFFILIATIONS)))\n",
    "#aff = Describe_Career(Open_Alex_ID= df['id'][0],Author_Data_Base= ADB)\n",
    "\n"
   ]
  },
  {
   "cell_type": "code",
   "execution_count": 183,
   "metadata": {},
   "outputs": [
    {
     "name": "stdout",
     "output_type": "stream",
     "text": [
      "Index : https://openalex.org/A5070986885\n",
      "Name : John H. R. Maunsell\n",
      "H-Index : 78\n",
      "Open ALex ID: https://openalex.org/A5070986885\n",
      "------------------------------------------------------------------------------------------\n",
      "No of papers visited: 188\n",
      "--  -----------------------------------------------------  --  ----------  ----------\n",
      " 0  Andover Eye Associates                                 US  nonprofit   1934-04-01\n",
      " 1  University of Iowa                                     US  education   1934-04-01\n",
      " 2  California Institute of Technology                     US  education   1980-12-01\n",
      " 3  University of Rochester                                US  education   1989-10-01\n",
      " 4  University of Rochester Medical Center                 US  healthcare  1991-11-01\n",
      " 5  Baylor College of Medicine                             US  education   1995-11-03\n",
      " 6  Howard Hughes Medical Institute                        US  nonprofit   1999-01-01\n",
      " 7  National Institute for Occupational Safety and Health  US  facility    2002-05-01\n",
      " 8  Oklahoma State Department of Health                    US  government  2002-05-01\n",
      " 9  National Center for Health Statistics                  US  other       2002-05-01\n",
      "10  National Center for Infectious Diseases                US  facility    2002-05-01\n",
      "11  Michigan State University                              US  education   2002-05-01\n",
      "12  Harvard University                                     US  education   2008-01-01\n",
      "13  University of Chicago                                  US  education   2015-06-01\n",
      "--  -----------------------------------------------------  --  ----------  ----------\n",
      "Name : John H. R. Maunsell\n",
      "H-Index : 78\n",
      "Open ALex ID: https://openalex.org/A5070986885\n",
      "------------------------------------------------------------------------------------------\n",
      "No of papers visited: 188\n",
      "--  -----------------------------------------------------  --  ----------  ----------\n",
      " 0  Andover Eye Associates                                 US  nonprofit   1934-04-01\n",
      " 1  California Institute of Technology                     US  education   1980-12-01\n",
      " 2  University of Rochester                                US  education   1989-10-01\n",
      " 3  University of Rochester Medical Center                 US  healthcare  1991-11-01\n",
      " 4  Baylor College of Medicine                             US  education   1995-11-03\n",
      " 5  Howard Hughes Medical Institute                        US  nonprofit   1999-01-01\n",
      " 6  National Institute for Occupational Safety and Health  US  facility    2002-05-01\n",
      " 7  Oklahoma State Department of Health                    US  government  2002-05-01\n",
      " 8  National Center for Health Statistics                  US  other       2002-05-01\n",
      " 9  National Center for Infectious Diseases                US  facility    2002-05-01\n",
      "10  Michigan State University                              US  education   2002-05-01\n",
      "11  Harvard University                                     US  education   2008-01-01\n",
      "12  University of Chicago                                  US  education   2015-06-01\n",
      "--  -----------------------------------------------------  --  ----------  ----------\n"
     ]
    }
   ],
   "source": [
    "# Highest H-Index is 90\n",
    "# Filtering for scientists who have H-Index above 70\n",
    "\n",
    "i = random.choice(np.array(df['id'][df['H-index']>=70]))\n",
    "#print(f\"ID : {i}\")\n",
    "Describe_Career(Open_Alex_ID = i,Author_Data_Base=ADB,filter_by_gap=False)\n",
    "Describe_Career(Open_Alex_ID = i,Author_Data_Base=ADB,filter_coefficient=3)\n",
    "#Describe_Career(Open_Alex_ID = df['id'][i],Author_Data_Base=ADB,filter_coefficient=2)"
   ]
  }
 ],
 "metadata": {
  "kernelspec": {
   "display_name": "Python 3",
   "language": "python",
   "name": "python3"
  },
  "language_info": {
   "codemirror_mode": {
    "name": "ipython",
    "version": 3
   },
   "file_extension": ".py",
   "mimetype": "text/x-python",
   "name": "python",
   "nbconvert_exporter": "python",
   "pygments_lexer": "ipython3",
   "version": "3.12.2"
  }
 },
 "nbformat": 4,
 "nbformat_minor": 2
}
